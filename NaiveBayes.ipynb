{
 "cells": [
  {
   "cell_type": "code",
   "execution_count": 1,
   "metadata": {},
   "outputs": [],
   "source": [
    "import pandas as pd\n",
    "from sklearn.feature_extraction.text import TfidfVectorizer\n",
    "from sklearn.model_selection import train_test_split\n",
    "from sklearn.pipeline import Pipeline\n",
    "from sklearn.model_selection import GridSearchCV\n",
    "from sklearn.metrics import classification_report\n",
    "from sklearn.naive_bayes import MultinomialNB"
   ]
  },
  {
   "cell_type": "code",
   "execution_count": 2,
   "metadata": {},
   "outputs": [
    {
     "data": {
      "text/plain": [
       "(3061, 2)"
      ]
     },
     "execution_count": 2,
     "metadata": {},
     "output_type": "execute_result"
    }
   ],
   "source": [
    "train_df = pd.read_csv('https://raw.githubusercontent.com/aatishsuman/health-advice/master/data/pubmed_causal_language_use.csv')\n",
    "train_df.shape"
   ]
  },
  {
   "cell_type": "code",
   "execution_count": 3,
   "metadata": {},
   "outputs": [
    {
     "name": "stdout",
     "output_type": "stream",
     "text": [
      "(2754,) (307,) (2754,) (307,) (915,) (915,)\n"
     ]
    }
   ],
   "source": [
    "X_train, X_validation, y_train, y_validation = train_test_split(train_df['sentence'], train_df['label'], test_size=0.1, random_state=42)\n",
    "test_df = pd.read_csv('https://raw.githubusercontent.com/aatishsuman/health-advice/master/data/test.csv')\n",
    "X_test, y_test = test_df['sentence'], test_df['label']\n",
    "print(X_train.shape, X_validation.shape, y_train.shape, y_validation.shape, X_test.shape, y_test.shape)"
   ]
  },
  {
   "cell_type": "code",
   "execution_count": 4,
   "metadata": {},
   "outputs": [],
   "source": [
    "def build_model(alpha=1.0, min_df=1, max_df=1.0):\n",
    "    vectorizer = TfidfVectorizer(encoding='latin-1', use_idf=False, min_df=min_df, max_df=max_df, stop_words='english')\n",
    "    mnb = MultinomialNB(alpha=alpha)\n",
    "    \n",
    "    train_vectors = vectorizer.fit_transform(X_train)\n",
    "    print('Train vector dimensions: ', train_vectors.shape)\n",
    "    mnb_model = mnb.fit(train_vectors, y_train)\n",
    "    \n",
    "    print('Validation accuracy: ', mnb_model.score(vectorizer.transform(X_validation), y_validation))\n",
    "    \n",
    "    return mnb_model, train_vectors, vectorizer"
   ]
  },
  {
   "cell_type": "code",
   "execution_count": 5,
   "metadata": {},
   "outputs": [],
   "source": [
    "def perform_grid_search(param_grid):\n",
    "    pipeline = Pipeline([('tf', TfidfVectorizer(encoding='latin-1', use_idf=False, stop_words='english')),\n",
    "                         ('nb', MultinomialNB())])\n",
    "    grid_cv = GridSearchCV(pipeline, param_grid, cv=3, n_jobs=-1, verbose=3)\n",
    "    grid_cv.fit(X_train, y_train)\n",
    "\n",
    "    print(\"Best parameters set:\")\n",
    "    print(\"Best Model's Params: \", grid_cv.best_params_)\n",
    "    print('Best Score: ', grid_cv.best_score_)"
   ]
  },
  {
   "cell_type": "code",
   "execution_count": 6,
   "metadata": {},
   "outputs": [
    {
     "name": "stdout",
     "output_type": "stream",
     "text": [
      "Train vector dimensions:  (2754, 6559)\n",
      "Validation accuracy:  0.7003257328990228\n"
     ]
    }
   ],
   "source": [
    "# baseline model\n",
    "model, vectors, vectorizer = build_model()"
   ]
  },
  {
   "cell_type": "code",
   "execution_count": 7,
   "metadata": {},
   "outputs": [
    {
     "name": "stdout",
     "output_type": "stream",
     "text": [
      "Fitting 3 folds for each of 48 candidates, totalling 144 fits\n"
     ]
    },
    {
     "name": "stderr",
     "output_type": "stream",
     "text": [
      "[Parallel(n_jobs=-1)]: Using backend LokyBackend with 12 concurrent workers.\n",
      "[Parallel(n_jobs=-1)]: Done   8 tasks      | elapsed:    2.4s\n",
      "[Parallel(n_jobs=-1)]: Done 104 tasks      | elapsed:    3.6s\n"
     ]
    },
    {
     "name": "stdout",
     "output_type": "stream",
     "text": [
      "Best parameters set:\n",
      "Best Model's Params:  {'nb__alpha': 0.01, 'tf__max_df': 0.2, 'tf__min_df': 10}\n",
      "Best Score:  0.6746550472040669\n"
     ]
    },
    {
     "name": "stderr",
     "output_type": "stream",
     "text": [
      "[Parallel(n_jobs=-1)]: Done 144 out of 144 | elapsed:    4.1s finished\n"
     ]
    }
   ],
   "source": [
    "# grid search - Model 1\n",
    "perform_grid_search({\n",
    "    'tf__max_df': (0.01, 0.1, 0.2, 1.0),\n",
    "    'tf__min_df': (5, 10, 20, 1),\n",
    "    'nb__alpha': (1e-2, 1e-3, 1.0)\n",
    "})"
   ]
  },
  {
   "cell_type": "code",
   "execution_count": 8,
   "metadata": {},
   "outputs": [
    {
     "name": "stdout",
     "output_type": "stream",
     "text": [
      "Train vector dimensions:  (2754, 653)\n",
      "Validation accuracy:  0.7296416938110749\n"
     ]
    }
   ],
   "source": [
    "# Model 1\n",
    "ALPHA, MIN_DF, MAX_DF = 0.01, 10, 0.2\n",
    "\n",
    "model, vectors, vectorizer = build_model(alpha=ALPHA, min_df=MIN_DF, max_df=MAX_DF)"
   ]
  },
  {
   "cell_type": "code",
   "execution_count": 9,
   "metadata": {},
   "outputs": [
    {
     "name": "stdout",
     "output_type": "stream",
     "text": [
      "Fitting 3 folds for each of 72 candidates, totalling 216 fits\n"
     ]
    },
    {
     "name": "stderr",
     "output_type": "stream",
     "text": [
      "[Parallel(n_jobs=-1)]: Using backend LokyBackend with 12 concurrent workers.\n",
      "[Parallel(n_jobs=-1)]: Done   8 tasks      | elapsed:    0.1s\n"
     ]
    },
    {
     "name": "stdout",
     "output_type": "stream",
     "text": [
      "Best parameters set:\n",
      "Best Model's Params:  {'nb__alpha': 0.01, 'tf__max_df': 0.2, 'tf__min_df': 8}\n",
      "Best Score:  0.6782861292665214\n"
     ]
    },
    {
     "name": "stderr",
     "output_type": "stream",
     "text": [
      "[Parallel(n_jobs=-1)]: Done 216 out of 216 | elapsed:    2.5s finished\n"
     ]
    }
   ],
   "source": [
    "# grid search - Model 2\n",
    "perform_grid_search({\n",
    "    'tf__max_df': (0.01, 0.1, 0.2, 1.0),\n",
    "    'tf__min_df': (5, 6, 7, 8, 9, 10),\n",
    "    'nb__alpha': (1e-2, 1e-3, 1.0)\n",
    "})"
   ]
  },
  {
   "cell_type": "code",
   "execution_count": 10,
   "metadata": {},
   "outputs": [
    {
     "name": "stdout",
     "output_type": "stream",
     "text": [
      "Train vector dimensions:  (2754, 811)\n",
      "Validation accuracy:  0.7198697068403909\n"
     ]
    }
   ],
   "source": [
    "# Model 2\n",
    "model, vectors, vectorizer = build_model(alpha=0.01, min_df=8, max_df=0.2)"
   ]
  },
  {
   "cell_type": "code",
   "execution_count": 11,
   "metadata": {},
   "outputs": [
    {
     "name": "stdout",
     "output_type": "stream",
     "text": [
      "Train vector dimensions:  (2754, 653)\n",
      "Validation accuracy:  0.7296416938110749\n"
     ]
    }
   ],
   "source": [
    "# best model\n",
    "model, vectors, vectorizer = build_model(alpha=0.01, min_df=10, max_df=0.2)"
   ]
  },
  {
   "cell_type": "code",
   "execution_count": 12,
   "metadata": {},
   "outputs": [
    {
     "name": "stdout",
     "output_type": "stream",
     "text": [
      "Train classification report:\n",
      "               precision    recall  f1-score   support\n",
      "\n",
      "           0       0.80      0.89      0.84      1218\n",
      "           1       0.81      0.56      0.66       446\n",
      "           2       0.88      0.32      0.47       197\n",
      "           3       0.79      0.89      0.84       893\n",
      "\n",
      "    accuracy                           0.80      2754\n",
      "   macro avg       0.82      0.67      0.70      2754\n",
      "weighted avg       0.80      0.80      0.78      2754\n",
      " \n",
      "\n",
      "Test classification report:\n",
      "               precision    recall  f1-score   support\n",
      "\n",
      "           0       0.84      0.58      0.69       636\n",
      "           1       0.17      0.13      0.15        61\n",
      "           2       0.33      0.11      0.16        19\n",
      "           3       0.39      0.83      0.53       199\n",
      "\n",
      "    accuracy                           0.60       915\n",
      "   macro avg       0.43      0.41      0.38       915\n",
      "weighted avg       0.69      0.60      0.61       915\n",
      " \n",
      "\n"
     ]
    }
   ],
   "source": [
    "print('Train classification report:\\n', classification_report(y_train, \n",
    "                                                              model.predict(vectors), \n",
    "                                                              target_names=['0','1','2','3']), '\\n')\n",
    "print('Test classification report:\\n', classification_report(y_test, \n",
    "                                                             model.predict(vectorizer.transform(X_test)), \n",
    "                                                             target_names=['0','1','2','3']), '\\n')"
   ]
  }
 ],
 "metadata": {
  "kernelspec": {
   "display_name": "Python 3",
   "language": "python",
   "name": "python3"
  },
  "language_info": {
   "codemirror_mode": {
    "name": "ipython",
    "version": 3
   },
   "file_extension": ".py",
   "mimetype": "text/x-python",
   "name": "python",
   "nbconvert_exporter": "python",
   "pygments_lexer": "ipython3",
   "version": "3.7.4"
  }
 },
 "nbformat": 4,
 "nbformat_minor": 4
}
