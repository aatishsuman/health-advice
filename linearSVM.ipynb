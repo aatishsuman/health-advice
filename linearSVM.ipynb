{
 "cells": [
  {
   "cell_type": "code",
   "execution_count": 1,
   "metadata": {},
   "outputs": [],
   "source": [
    "import pandas as pd\n",
    "from sklearn.feature_extraction.text import TfidfVectorizer\n",
    "from sklearn.model_selection import train_test_split\n",
    "from sklearn.pipeline import Pipeline\n",
    "from sklearn.model_selection import cross_val_score\n",
    "from sklearn.metrics import classification_report\n",
    "from sklearn.svm import LinearSVC"
   ]
  },
  {
   "cell_type": "code",
   "execution_count": 2,
   "metadata": {},
   "outputs": [
    {
     "data": {
      "text/plain": [
       "(3061, 2)"
      ]
     },
     "execution_count": 2,
     "metadata": {},
     "output_type": "execute_result"
    }
   ],
   "source": [
    "train_df = pd.read_csv('https://raw.githubusercontent.com/aatishsuman/health-advice/master/data/pubmed_causal_language_use.csv')\n",
    "train_df.shape"
   ]
  },
  {
   "cell_type": "code",
   "execution_count": 3,
   "metadata": {},
   "outputs": [
    {
     "name": "stdout",
     "output_type": "stream",
     "text": [
      "(2754,) (307,) (2754,) (307,) (915,) (915,)\n"
     ]
    }
   ],
   "source": [
    "X_train, X_validation, y_train, y_validation = train_test_split(train_df['sentence'], train_df['label'], test_size=0.1, random_state=42)\n",
    "test_df = pd.read_csv('https://raw.githubusercontent.com/aatishsuman/health-advice/master/data/test.csv')\n",
    "X_test, y_test = test_df['sentence'], test_df['label']\n",
    "print(X_train.shape, X_validation.shape, y_train.shape, y_validation.shape, X_test.shape, y_test.shape)"
   ]
  },
  {
   "cell_type": "code",
   "execution_count": 4,
   "metadata": {},
   "outputs": [],
   "source": [
    "def build_model(penalty='l2', dual=True, max_iter=1000, C=1, min_df=1, max_df=1.0, max_features=None):\n",
    "    vectorizer = TfidfVectorizer(encoding='latin-1', min_df=min_df, max_df=max_df, max_features=max_features, stop_words='english')\n",
    "    svc = LinearSVC(penalty=penalty, dual=dual, max_iter=max_iter, C=C, random_state=42)\n",
    "    \n",
    "    train_vectors = vectorizer.fit_transform(X_train)\n",
    "    print('Train vector dimensions:', train_vectors.shape)\n",
    "    svc_model = svc.fit(train_vectors, y_train)\n",
    "    \n",
    "    print('Validation accuracy:', svc_model.score(vectorizer.transform(X_validation), y_validation))\n",
    "    pipe = Pipeline(steps=[('tfidf', vectorizer),\n",
    "                       ('svc', svc)])\n",
    "    scores = cross_val_score(pipe, X_train, y_train, cv=3)\n",
    "    print('Cross validation score:', sum(scores)/len(scores))\n",
    "    return svc_model, train_vectors, vectorizer"
   ]
  },
  {
   "cell_type": "code",
   "execution_count": 5,
   "metadata": {},
   "outputs": [
    {
     "name": "stdout",
     "output_type": "stream",
     "text": [
      "Train vector dimensions: (2754, 6559)\n",
      "Validation accuracy: 0.7263843648208469\n",
      "Cross validation score: 0.6964415395787945\n"
     ]
    }
   ],
   "source": [
    "# baseline model\n",
    "model, vectors, vectorizer = build_model()"
   ]
  },
  {
   "cell_type": "code",
   "execution_count": 6,
   "metadata": {},
   "outputs": [
    {
     "name": "stdout",
     "output_type": "stream",
     "text": [
      "Train vector dimensions: (2754, 3230)\n",
      "Validation accuracy: 0.745928338762215\n",
      "Cross validation score: 0.7073347857661583\n"
     ]
    }
   ],
   "source": [
    "# Model 1\n",
    "model, vectors, vectorizer = build_model(C=0.3, min_df=2)"
   ]
  },
  {
   "cell_type": "code",
   "execution_count": 7,
   "metadata": {},
   "outputs": [
    {
     "name": "stdout",
     "output_type": "stream",
     "text": [
      "Train vector dimensions: (2754, 6559)\n",
      "Validation accuracy: 0.762214983713355\n",
      "Cross validation score: 0.7156862745098039\n"
     ]
    }
   ],
   "source": [
    "# Model 2\n",
    "model, vectors, vectorizer = build_model(penalty='l1', dual=False)"
   ]
  },
  {
   "cell_type": "code",
   "execution_count": 8,
   "metadata": {},
   "outputs": [
    {
     "name": "stdout",
     "output_type": "stream",
     "text": [
      "Train classification report:\n",
      "               precision    recall  f1-score   support\n",
      "\n",
      "           0       0.93      0.98      0.96      1218\n",
      "           1       0.96      0.87      0.91       446\n",
      "           2       0.97      0.77      0.86       197\n",
      "           3       0.96      0.97      0.96       893\n",
      "\n",
      "    accuracy                           0.95      2754\n",
      "   macro avg       0.95      0.90      0.92      2754\n",
      "weighted avg       0.95      0.95      0.94      2754\n",
      " \n",
      "\n",
      "Test classification report:\n",
      "               precision    recall  f1-score   support\n",
      "\n",
      "           0       0.86      0.71      0.78       636\n",
      "           1       0.27      0.33      0.30        61\n",
      "           2       0.28      0.26      0.27        19\n",
      "           3       0.49      0.74      0.59       199\n",
      "\n",
      "    accuracy                           0.68       915\n",
      "   macro avg       0.48      0.51      0.48       915\n",
      "weighted avg       0.73      0.68      0.69       915\n",
      " \n",
      "\n"
     ]
    }
   ],
   "source": [
    "print('Train classification report:\\n', classification_report(y_train, \n",
    "                                                              model.predict(vectors), \n",
    "                                                              target_names=['0','1','2','3']), '\\n')\n",
    "print('Test classification report:\\n', classification_report(y_test, \n",
    "                                                             model.predict(vectorizer.transform(X_test)), \n",
    "                                                             target_names=['0','1','2','3']), '\\n')"
   ]
  }
 ],
 "metadata": {
  "kernelspec": {
   "display_name": "Python 3",
   "language": "python",
   "name": "python3"
  },
  "language_info": {
   "codemirror_mode": {
    "name": "ipython",
    "version": 3
   },
   "file_extension": ".py",
   "mimetype": "text/x-python",
   "name": "python",
   "nbconvert_exporter": "python",
   "pygments_lexer": "ipython3",
   "version": "3.7.4"
  }
 },
 "nbformat": 4,
 "nbformat_minor": 4
}
